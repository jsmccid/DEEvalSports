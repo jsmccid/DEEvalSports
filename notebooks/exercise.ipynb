{
 "cells": [
  {
   "cell_type": "code",
   "execution_count": 17,
   "id": "b70a3f46-149c-4311-b62d-e18f419a4a7b",
   "metadata": {},
   "outputs": [],
   "source": [
    "import pandas as pd"
   ]
  },
  {
   "cell_type": "markdown",
   "id": "6c5cc2cf-bdfc-4d89-89a9-347cc20c68e1",
   "metadata": {},
   "source": [
    "# download"
   ]
  },
  {
   "cell_type": "code",
   "execution_count": 53,
   "id": "1468c50f-ccdb-45d0-af99-79bcb1822985",
   "metadata": {},
   "outputs": [],
   "source": [
    "# name and unique sheet ID from gdrive\n",
    "sheetIDs = [[\"People\", \"0\"], [\"Matches\", \"1626706262\"], [\"Formations\", \"900063785\"], [\"PlayByPlay\", \"1273503444\"], [\"MatchEvents\", \"567816814\"], [\"TrainingSessions\", \"960271477\"], [\"TrainingBreakdown\", \"1405062779\"], [\"TrainingEvents\", \"928411476\"]]\n",
    "\n",
    "for name, number in sheetIDs:\n",
    "    url = f\"https://docs.google.com/spreadsheets/d/{uid}/export?format=csv&gid={number}\"\n",
    "    sheet = pd.read_csv(url)\n",
    "    out = f\"../data/{name}.csv\"\n",
    "    sheet.to_csv(out)"
   ]
  },
  {
   "cell_type": "code",
   "execution_count": null,
   "id": "962f3710-07ae-4ac8-991c-d8343cecffbe",
   "metadata": {},
   "outputs": [],
   "source": []
  }
 ],
 "metadata": {
  "kernelspec": {
   "display_name": "Python 3 (ipykernel)",
   "language": "python",
   "name": "python3"
  },
  "language_info": {
   "codemirror_mode": {
    "name": "ipython",
    "version": 3
   },
   "file_extension": ".py",
   "mimetype": "text/x-python",
   "name": "python",
   "nbconvert_exporter": "python",
   "pygments_lexer": "ipython3",
   "version": "3.8.8"
  }
 },
 "nbformat": 4,
 "nbformat_minor": 5
}
