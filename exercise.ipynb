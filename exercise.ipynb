{
 "cells": [
  {
   "cell_type": "code",
   "execution_count": 6,
   "id": "b70a3f46-149c-4311-b62d-e18f419a4a7b",
   "metadata": {},
   "outputs": [],
   "source": [
    "import pandas as pd\n",
    "import os\n",
    "from src.secrets import secrets as sc\n",
    "from gcloud import storage\n",
    "from oauth2client.service_account import ServiceAccountCredentials\n",
    "from pathlib import Path"
   ]
  },
  {
   "cell_type": "markdown",
   "id": "6c5cc2cf-bdfc-4d89-89a9-347cc20c68e1",
   "metadata": {},
   "source": [
    "# Download"
   ]
  },
  {
   "cell_type": "code",
   "execution_count": 5,
   "id": "1468c50f-ccdb-45d0-af99-79bcb1822985",
   "metadata": {},
   "outputs": [],
   "source": [
    "# name and unique sheet ID from gdrive\n",
    "sheetIDs = [[\"People\", \"0\"], [\"Matches\", \"1626706262\"], [\"Formations\", \"900063785\"], [\"PlayByPlay\", \"1273503444\"], [\"MatchEvents\", \"567816814\"], [\"TrainingSessions\", \"960271477\"], [\"TrainingBreakdown\", \"1405062779\"], [\"TrainingEvents\", \"928411476\"]]\n",
    "\n",
    "for name, number in sheetIDs:\n",
    "    url = f\"https://docs.google.com/spreadsheets/d/{sc.SHEET_UID}/export?format=csv&gid={number}\"\n",
    "    sheet = pd.read_csv(url)\n",
    "    out = f\"./data/{name}.csv\"\n",
    "    sheet.to_csv(out)"
   ]
  },
  {
   "cell_type": "markdown",
   "id": "8307c443-a75e-4a63-99b8-c956f07d87ea",
   "metadata": {},
   "source": [
    "# Store in google"
   ]
  },
  {
   "cell_type": "markdown",
   "id": "20191290-4739-4cba-a983-b28535007f4c",
   "metadata": {},
   "source": [
    "single region - sydney\n",
    "standard class\n",
    "public access prevention on\n",
    "access control uninform (simplicity)\n",
    "no protection\n",
    "encryption: oogle managed key"
   ]
  },
  {
   "cell_type": "code",
   "execution_count": 4,
   "id": "d1fc1b6e-d3cf-43c4-97f5-83bb7a5be900",
   "metadata": {},
   "outputs": [],
   "source": [
    "# https://stackoverflow.com/questions/37003862/how-to-upload-a-file-to-google-cloud-storage-on-python-3\n",
    "\n",
    "credentials_dict = {\n",
    "    'type': 'service_account',\n",
    "    'client_id': sc.BUCKET_CLIENT_ID,\n",
    "    'client_email': sc.BUCKET_CLIENT_EMAIL,\n",
    "    'private_key_id': sc.BUCKET_PRIVATE_KEY_ID,\n",
    "    'private_key': sc.BUCKET_PRIVATE_KEY,\n",
    "}\n",
    "credentials = ServiceAccountCredentials.from_json_keyfile_dict(\n",
    "    credentials_dict\n",
    ")\n",
    "client = storage.Client(credentials=credentials, project=sc.BUCKET_PROJECT)\n",
    "bucket = client.get_bucket(sc.BUCKET_NAME)\n",
    "\n",
    "for path in sheetDirectory.iterdir():\n",
    "    blob = bucket.blob(path.name)\n",
    "    blob.upload_from_filename(path)"
   ]
  },
  {
   "cell_type": "markdown",
   "id": "341c27f7-932e-4751-b05c-f396d754e14c",
   "metadata": {},
   "source": []
  }
 ],
 "metadata": {
  "kernelspec": {
   "display_name": "Python 3 (ipykernel)",
   "language": "python",
   "name": "python3"
  },
  "language_info": {
   "codemirror_mode": {
    "name": "ipython",
    "version": 3
   },
   "file_extension": ".py",
   "mimetype": "text/x-python",
   "name": "python",
   "nbconvert_exporter": "python",
   "pygments_lexer": "ipython3",
   "version": "3.8.8"
  }
 },
 "nbformat": 4,
 "nbformat_minor": 5
}
